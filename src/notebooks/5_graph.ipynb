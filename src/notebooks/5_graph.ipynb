{
 "cells": [
  {
   "cell_type": "markdown",
   "metadata": {},
   "source": [
    "# Visualización a través de grafos\n",
    "\n",
    "A través de Text Network Analysis (ref: [Dmitry Paranyushkin](https://noduslabs.com/wp-content/uploads/2019/06/InfraNodus-Paranyushkin-WWW19-Conference.pdf?ref=github))\n",
    "\n",
    "Crearemos un DataFrame con conexiones entre palabras cercanas y lo pasaremo a grafo a través de la la librería pelote.\n",
    "\n",
    "A continuación el grafo será procesado y visualizado por ipysigma, un widget que usa sigma.js para ser visualizada en jupyter notebooks"
   ]
  },
  {
   "cell_type": "code",
   "execution_count": 9,
   "metadata": {},
   "outputs": [
    {
     "name": "stdout",
     "output_type": "stream",
     "text": [
      "Requirement already satisfied: ipysigma in /Library/Frameworks/Python.framework/Versions/3.11/lib/python3.11/site-packages (0.24.2)\n",
      "Requirement already satisfied: ipywidgets>=7.0.0 in /Library/Frameworks/Python.framework/Versions/3.11/lib/python3.11/site-packages (from ipysigma) (8.0.7)\n",
      "Requirement already satisfied: ipykernel>=4.5.1 in /Users/manuel/Library/Python/3.11/lib/python/site-packages (from ipywidgets>=7.0.0->ipysigma) (6.23.1)\n",
      "Requirement already satisfied: ipython>=6.1.0 in /Users/manuel/Library/Python/3.11/lib/python/site-packages (from ipywidgets>=7.0.0->ipysigma) (8.14.0)\n",
      "Requirement already satisfied: traitlets>=4.3.1 in /Users/manuel/Library/Python/3.11/lib/python/site-packages (from ipywidgets>=7.0.0->ipysigma) (5.9.0)\n",
      "Requirement already satisfied: widgetsnbextension~=4.0.7 in /Library/Frameworks/Python.framework/Versions/3.11/lib/python3.11/site-packages (from ipywidgets>=7.0.0->ipysigma) (4.0.8)\n",
      "Requirement already satisfied: jupyterlab-widgets~=3.0.7 in /Library/Frameworks/Python.framework/Versions/3.11/lib/python3.11/site-packages (from ipywidgets>=7.0.0->ipysigma) (3.0.8)\n",
      "Requirement already satisfied: appnope in /Users/manuel/Library/Python/3.11/lib/python/site-packages (from ipykernel>=4.5.1->ipywidgets>=7.0.0->ipysigma) (0.1.3)\n",
      "Requirement already satisfied: comm>=0.1.1 in /Users/manuel/Library/Python/3.11/lib/python/site-packages (from ipykernel>=4.5.1->ipywidgets>=7.0.0->ipysigma) (0.1.3)\n",
      "Requirement already satisfied: debugpy>=1.6.5 in /Users/manuel/Library/Python/3.11/lib/python/site-packages (from ipykernel>=4.5.1->ipywidgets>=7.0.0->ipysigma) (1.6.7)\n",
      "Requirement already satisfied: jupyter-client>=6.1.12 in /Users/manuel/Library/Python/3.11/lib/python/site-packages (from ipykernel>=4.5.1->ipywidgets>=7.0.0->ipysigma) (8.2.0)\n",
      "Requirement already satisfied: jupyter-core!=5.0.*,>=4.12 in /Users/manuel/Library/Python/3.11/lib/python/site-packages (from ipykernel>=4.5.1->ipywidgets>=7.0.0->ipysigma) (5.3.0)\n",
      "Requirement already satisfied: matplotlib-inline>=0.1 in /Users/manuel/Library/Python/3.11/lib/python/site-packages (from ipykernel>=4.5.1->ipywidgets>=7.0.0->ipysigma) (0.1.6)\n",
      "Requirement already satisfied: nest-asyncio in /Users/manuel/Library/Python/3.11/lib/python/site-packages (from ipykernel>=4.5.1->ipywidgets>=7.0.0->ipysigma) (1.5.6)\n",
      "Requirement already satisfied: packaging in /Library/Frameworks/Python.framework/Versions/3.11/lib/python3.11/site-packages (from ipykernel>=4.5.1->ipywidgets>=7.0.0->ipysigma) (23.1)\n",
      "Requirement already satisfied: psutil in /Users/manuel/Library/Python/3.11/lib/python/site-packages (from ipykernel>=4.5.1->ipywidgets>=7.0.0->ipysigma) (5.9.5)\n",
      "Requirement already satisfied: pyzmq>=20 in /Users/manuel/Library/Python/3.11/lib/python/site-packages (from ipykernel>=4.5.1->ipywidgets>=7.0.0->ipysigma) (25.1.0)\n",
      "Requirement already satisfied: tornado>=6.1 in /Users/manuel/Library/Python/3.11/lib/python/site-packages (from ipykernel>=4.5.1->ipywidgets>=7.0.0->ipysigma) (6.3.2)\n",
      "Requirement already satisfied: backcall in /Users/manuel/Library/Python/3.11/lib/python/site-packages (from ipython>=6.1.0->ipywidgets>=7.0.0->ipysigma) (0.2.0)\n",
      "Requirement already satisfied: decorator in /Users/manuel/Library/Python/3.11/lib/python/site-packages (from ipython>=6.1.0->ipywidgets>=7.0.0->ipysigma) (5.1.1)\n",
      "Requirement already satisfied: jedi>=0.16 in /Users/manuel/Library/Python/3.11/lib/python/site-packages (from ipython>=6.1.0->ipywidgets>=7.0.0->ipysigma) (0.18.2)\n",
      "Requirement already satisfied: pickleshare in /Users/manuel/Library/Python/3.11/lib/python/site-packages (from ipython>=6.1.0->ipywidgets>=7.0.0->ipysigma) (0.7.5)\n",
      "Requirement already satisfied: prompt-toolkit!=3.0.37,<3.1.0,>=3.0.30 in /Users/manuel/Library/Python/3.11/lib/python/site-packages (from ipython>=6.1.0->ipywidgets>=7.0.0->ipysigma) (3.0.38)\n",
      "Requirement already satisfied: pygments>=2.4.0 in /Users/manuel/Library/Python/3.11/lib/python/site-packages (from ipython>=6.1.0->ipywidgets>=7.0.0->ipysigma) (2.15.1)\n",
      "Requirement already satisfied: stack-data in /Users/manuel/Library/Python/3.11/lib/python/site-packages (from ipython>=6.1.0->ipywidgets>=7.0.0->ipysigma) (0.6.2)\n",
      "Requirement already satisfied: pexpect>4.3 in /Users/manuel/Library/Python/3.11/lib/python/site-packages (from ipython>=6.1.0->ipywidgets>=7.0.0->ipysigma) (4.8.0)\n",
      "Requirement already satisfied: parso<0.9.0,>=0.8.0 in /Users/manuel/Library/Python/3.11/lib/python/site-packages (from jedi>=0.16->ipython>=6.1.0->ipywidgets>=7.0.0->ipysigma) (0.8.3)\n",
      "Requirement already satisfied: python-dateutil>=2.8.2 in /Library/Frameworks/Python.framework/Versions/3.11/lib/python3.11/site-packages (from jupyter-client>=6.1.12->ipykernel>=4.5.1->ipywidgets>=7.0.0->ipysigma) (2.8.2)\n",
      "Requirement already satisfied: platformdirs>=2.5 in /Users/manuel/Library/Python/3.11/lib/python/site-packages (from jupyter-core!=5.0.*,>=4.12->ipykernel>=4.5.1->ipywidgets>=7.0.0->ipysigma) (3.5.3)\n",
      "Requirement already satisfied: ptyprocess>=0.5 in /Users/manuel/Library/Python/3.11/lib/python/site-packages (from pexpect>4.3->ipython>=6.1.0->ipywidgets>=7.0.0->ipysigma) (0.7.0)\n",
      "Requirement already satisfied: wcwidth in /Users/manuel/Library/Python/3.11/lib/python/site-packages (from prompt-toolkit!=3.0.37,<3.1.0,>=3.0.30->ipython>=6.1.0->ipywidgets>=7.0.0->ipysigma) (0.2.6)\n",
      "Requirement already satisfied: executing>=1.2.0 in /Users/manuel/Library/Python/3.11/lib/python/site-packages (from stack-data->ipython>=6.1.0->ipywidgets>=7.0.0->ipysigma) (1.2.0)\n",
      "Requirement already satisfied: asttokens>=2.1.0 in /Users/manuel/Library/Python/3.11/lib/python/site-packages (from stack-data->ipython>=6.1.0->ipywidgets>=7.0.0->ipysigma) (2.2.1)\n",
      "Requirement already satisfied: pure-eval in /Users/manuel/Library/Python/3.11/lib/python/site-packages (from stack-data->ipython>=6.1.0->ipywidgets>=7.0.0->ipysigma) (0.2.2)\n",
      "Requirement already satisfied: six in /Library/Frameworks/Python.framework/Versions/3.11/lib/python3.11/site-packages (from asttokens>=2.1.0->stack-data->ipython>=6.1.0->ipywidgets>=7.0.0->ipysigma) (1.16.0)\n",
      "Note: you may need to restart the kernel to use updated packages.\n"
     ]
    }
   ],
   "source": [
    "%pip install ipysigma"
   ]
  },
  {
   "cell_type": "code",
   "execution_count": 10,
   "metadata": {},
   "outputs": [
    {
     "name": "stdout",
     "output_type": "stream",
     "text": [
      "Requirement already satisfied: networkx in /Library/Frameworks/Python.framework/Versions/3.11/lib/python3.11/site-packages (2.8.8)\n",
      "Note: you may need to restart the kernel to use updated packages.\n"
     ]
    }
   ],
   "source": [
    "%pip install networkx"
   ]
  },
  {
   "cell_type": "code",
   "execution_count": 11,
   "metadata": {},
   "outputs": [
    {
     "name": "stdout",
     "output_type": "stream",
     "text": [
      "Requirement already satisfied: pelote in /Library/Frameworks/Python.framework/Versions/3.11/lib/python3.11/site-packages (0.8.2)\n",
      "Requirement already satisfied: ebbe<2,>=1.9.0 in /Library/Frameworks/Python.framework/Versions/3.11/lib/python3.11/site-packages (from pelote) (1.13.2)\n",
      "Requirement already satisfied: pyllist in /Library/Frameworks/Python.framework/Versions/3.11/lib/python3.11/site-packages (from pelote) (0.3)\n",
      "Requirement already satisfied: networkx<3,>=2 in /Library/Frameworks/Python.framework/Versions/3.11/lib/python3.11/site-packages (from pelote) (2.8.8)\n",
      "Note: you may need to restart the kernel to use updated packages.\n"
     ]
    }
   ],
   "source": [
    "%pip install pelote"
   ]
  },
  {
   "cell_type": "code",
   "execution_count": 12,
   "metadata": {},
   "outputs": [],
   "source": [
    "from pelote import edges_table_to_graph\n",
    "import pandas as pd \n",
    "import numpy as np\n",
    "from ipysigma import Sigma\n",
    "import wordpreproc as wp\n",
    "from nltk.util import ngrams\n",
    "from gensim.corpora import Dictionary\n",
    "import networkx as nx"
   ]
  },
  {
   "cell_type": "code",
   "execution_count": 13,
   "metadata": {},
   "outputs": [
    {
     "data": {
      "text/plain": [
       "0      dream huge dark house random scary guy laptop ...\n",
       "1      dream write essay spanish embarrass thing ever...\n",
       "2      bizarre dream dreamt like friend house like th...\n",
       "3      last night dreamt somehow get pregnant make gu...\n",
       "4      tell crush jose water give bottle middle discu...\n",
       "                             ...                        \n",
       "395    really scary dream go see movie day later supp...\n",
       "396    dreamt bee also vampires begin vampire others ...\n",
       "397    last night pretty crazy dream dream three four...\n",
       "398    last night first dream get new flavor ice crea...\n",
       "399    many dream last night first dream study hall a...\n",
       "Name: text_cleaned, Length: 400, dtype: object"
      ]
     },
     "execution_count": 13,
     "metadata": {},
     "output_type": "execute_result"
    }
   ],
   "source": [
    "full_data = pd.read_csv(\"../data/processed/balanced_train.csv\",index_col=0).reset_index(drop=True)\n",
    "full_files = pd.read_csv(\"../data/processed/balanced_train.csv\",index_col=0).reset_index(drop=True).iloc[:,0]\n",
    "highschool_files = full_data.query(\"target == 0\").iloc[:,0]\n",
    "college_files = full_data.query(\"target == 1\").iloc[:,0]\n",
    "adult_files = full_data.query(\"target == 2\").iloc[:,0]\n",
    "highschool_files"
   ]
  },
  {
   "cell_type": "markdown",
   "metadata": {},
   "source": [
    "# Ejemplo de uso de las librerías de grafos"
   ]
  },
  {
   "cell_type": "code",
   "execution_count": 14,
   "metadata": {},
   "outputs": [
    {
     "data": {
      "text/html": [
       "<div>\n",
       "<style scoped>\n",
       "    .dataframe tbody tr th:only-of-type {\n",
       "        vertical-align: middle;\n",
       "    }\n",
       "\n",
       "    .dataframe tbody tr th {\n",
       "        vertical-align: top;\n",
       "    }\n",
       "\n",
       "    .dataframe thead th {\n",
       "        text-align: right;\n",
       "    }\n",
       "</style>\n",
       "<table border=\"1\" class=\"dataframe\">\n",
       "  <thead>\n",
       "    <tr style=\"text-align: right;\">\n",
       "      <th></th>\n",
       "      <th>node1</th>\n",
       "      <th>node2</th>\n",
       "      <th>weight</th>\n",
       "    </tr>\n",
       "  </thead>\n",
       "  <tbody>\n",
       "    <tr>\n",
       "      <th>0</th>\n",
       "      <td>1</td>\n",
       "      <td>2</td>\n",
       "      <td>3</td>\n",
       "    </tr>\n",
       "    <tr>\n",
       "      <th>1</th>\n",
       "      <td>2</td>\n",
       "      <td>3</td>\n",
       "      <td>3</td>\n",
       "    </tr>\n",
       "    <tr>\n",
       "      <th>2</th>\n",
       "      <td>3</td>\n",
       "      <td>4</td>\n",
       "      <td>5</td>\n",
       "    </tr>\n",
       "  </tbody>\n",
       "</table>\n",
       "</div>"
      ],
      "text/plain": [
       "   node1  node2  weight\n",
       "0      1      2       3\n",
       "1      2      3       3\n",
       "2      3      4       5"
      ]
     },
     "execution_count": 14,
     "metadata": {},
     "output_type": "execute_result"
    }
   ],
   "source": [
    "# cada fila es una conexión: el nodo 1 estará conectado al nodo 2 con una fuerza de \"weight\"\n",
    "df = pd.DataFrame(np.array([[1, 2,3], [2, 3, 3],[3,4,5]]),columns=[\"node1\",\"node2\",\"weight\"])\n",
    "df\n"
   ]
  },
  {
   "cell_type": "code",
   "execution_count": 15,
   "metadata": {},
   "outputs": [
    {
     "data": {
      "application/vnd.jupyter.widget-view+json": {
       "model_id": "6d16c93d572a44668873514228ba8ba7",
       "version_major": 2,
       "version_minor": 0
      },
      "text/plain": [
       "Sigma(nx.DiGraph with 4 nodes and 3 edges)"
      ]
     },
     "execution_count": 15,
     "metadata": {},
     "output_type": "execute_result"
    }
   ],
   "source": [
    "prueba = edges_table_to_graph(edge_table=df,edge_source_col=\"node1\",edge_target_col=\"node2\",edge_weight_attr=\"weight\",directed=True,edge_data=[\"weight\"])\n",
    "Sigma(prueba,edge_size=\"weight\")"
   ]
  },
  {
   "cell_type": "code",
   "execution_count": 16,
   "metadata": {},
   "outputs": [
    {
     "name": "stderr",
     "output_type": "stream",
     "text": [
      "[nltk_data] Downloading package stopwords to\n",
      "[nltk_data]     /Users/manuel/nltk_data...\n",
      "[nltk_data]   Package stopwords is already up-to-date!\n"
     ]
    }
   ],
   "source": [
    "# Importamos el preprocesado\n",
    "new_prep = wp.WordPrep()\n",
    "new_prep.update_stopwords()"
   ]
  },
  {
   "cell_type": "code",
   "execution_count": 17,
   "metadata": {},
   "outputs": [],
   "source": [
    "def processed_text_todf(text_proc):\n",
    "    \"\"\"\n",
    "    procesed_text_todf(texto_procesado) --> DataFrame() \n",
    "    \n",
    "    Función que convierte un texto procesado en un DataFrame con laas conexioones entr los nodos y su weight.\n",
    "\n",
    "    Conexiones entre palabras:\n",
    "    Ejemplo frase: palabra1 palabra2 palabra3 palabr4\n",
    "    Peso 3: conexión entre cada palabra y su palabra a continuación palabra1-palabra2 (bigrama)\n",
    "    Peso 2: palabra1-palabra3\n",
    "    Peso 1: palabra1-palabra4\n",
    "\n",
    "    (esto hace que tengan pesos menores cuanto más lejanas son)\n",
    "\n",
    "    \"\"\"\n",
    "    df_data2 = pd.DataFrame()\n",
    "    df_data2[\"word\"] = text_proc[:-1]\n",
    "    df_data2[\"n_gram\"] = list(ngrams((text_proc),2))\n",
    "    df_data2[\"n_gram\"] = [el[1] for el in list(ngrams((text_proc),2))]\n",
    "    df_data2[\"weight\"] = 3\n",
    "\n",
    "    df_data3 = pd.DataFrame()\n",
    "    df_data3[\"word\"] = text_proc[:-2]\n",
    "    df_data3[\"n_gram\"] = [el[2] for el in list(ngrams((text_proc),3))]\n",
    "    df_data3[\"weight\"] = 2\n",
    "\n",
    "    df_data4 = pd.DataFrame()\n",
    "    df_data4[\"word\"] = text_proc[:-3]\n",
    "    df_data4[\"n_gram\"] = [el[3] for el in list(ngrams((text_proc),4))]\n",
    "    df_data4[\"weight\"] = 1\n",
    "\n",
    "    df_all = pd.concat([df_data2,df_data3,df_data4],axis=0)\n",
    "    return df_all"
   ]
  },
  {
   "cell_type": "code",
   "execution_count": 18,
   "metadata": {},
   "outputs": [
    {
     "name": "stdout",
     "output_type": "stream",
     "text": [
      "['test', 'text', 'process', 'visualize', 'graph', 'repeat', 'repeat', 'word', 'word', 'word', 'cat']\n"
     ]
    }
   ],
   "source": [
    "text_new = \"This is a test text to by processed and visualized in a graph. This is a repeated repeated word word, here it is again word cat\"\n",
    "text_proc = new_prep.corpus_text_preprocessing(text_new).split()\n",
    "print(text_proc)"
   ]
  },
  {
   "cell_type": "code",
   "execution_count": 19,
   "metadata": {},
   "outputs": [
    {
     "data": {
      "text/html": [
       "<div>\n",
       "<style scoped>\n",
       "    .dataframe tbody tr th:only-of-type {\n",
       "        vertical-align: middle;\n",
       "    }\n",
       "\n",
       "    .dataframe tbody tr th {\n",
       "        vertical-align: top;\n",
       "    }\n",
       "\n",
       "    .dataframe thead th {\n",
       "        text-align: right;\n",
       "    }\n",
       "</style>\n",
       "<table border=\"1\" class=\"dataframe\">\n",
       "  <thead>\n",
       "    <tr style=\"text-align: right;\">\n",
       "      <th></th>\n",
       "      <th>word</th>\n",
       "      <th>n_gram</th>\n",
       "      <th>weight</th>\n",
       "    </tr>\n",
       "  </thead>\n",
       "  <tbody>\n",
       "    <tr>\n",
       "      <th>0</th>\n",
       "      <td>test</td>\n",
       "      <td>text</td>\n",
       "      <td>3</td>\n",
       "    </tr>\n",
       "    <tr>\n",
       "      <th>1</th>\n",
       "      <td>text</td>\n",
       "      <td>process</td>\n",
       "      <td>3</td>\n",
       "    </tr>\n",
       "    <tr>\n",
       "      <th>2</th>\n",
       "      <td>process</td>\n",
       "      <td>visualize</td>\n",
       "      <td>3</td>\n",
       "    </tr>\n",
       "    <tr>\n",
       "      <th>3</th>\n",
       "      <td>visualize</td>\n",
       "      <td>graph</td>\n",
       "      <td>3</td>\n",
       "    </tr>\n",
       "    <tr>\n",
       "      <th>4</th>\n",
       "      <td>graph</td>\n",
       "      <td>repeat</td>\n",
       "      <td>3</td>\n",
       "    </tr>\n",
       "    <tr>\n",
       "      <th>5</th>\n",
       "      <td>repeat</td>\n",
       "      <td>repeat</td>\n",
       "      <td>3</td>\n",
       "    </tr>\n",
       "    <tr>\n",
       "      <th>6</th>\n",
       "      <td>repeat</td>\n",
       "      <td>word</td>\n",
       "      <td>3</td>\n",
       "    </tr>\n",
       "    <tr>\n",
       "      <th>7</th>\n",
       "      <td>word</td>\n",
       "      <td>word</td>\n",
       "      <td>3</td>\n",
       "    </tr>\n",
       "    <tr>\n",
       "      <th>8</th>\n",
       "      <td>word</td>\n",
       "      <td>word</td>\n",
       "      <td>3</td>\n",
       "    </tr>\n",
       "    <tr>\n",
       "      <th>9</th>\n",
       "      <td>word</td>\n",
       "      <td>cat</td>\n",
       "      <td>3</td>\n",
       "    </tr>\n",
       "    <tr>\n",
       "      <th>0</th>\n",
       "      <td>test</td>\n",
       "      <td>process</td>\n",
       "      <td>2</td>\n",
       "    </tr>\n",
       "    <tr>\n",
       "      <th>1</th>\n",
       "      <td>text</td>\n",
       "      <td>visualize</td>\n",
       "      <td>2</td>\n",
       "    </tr>\n",
       "    <tr>\n",
       "      <th>2</th>\n",
       "      <td>process</td>\n",
       "      <td>graph</td>\n",
       "      <td>2</td>\n",
       "    </tr>\n",
       "    <tr>\n",
       "      <th>3</th>\n",
       "      <td>visualize</td>\n",
       "      <td>repeat</td>\n",
       "      <td>2</td>\n",
       "    </tr>\n",
       "    <tr>\n",
       "      <th>4</th>\n",
       "      <td>graph</td>\n",
       "      <td>repeat</td>\n",
       "      <td>2</td>\n",
       "    </tr>\n",
       "    <tr>\n",
       "      <th>5</th>\n",
       "      <td>repeat</td>\n",
       "      <td>word</td>\n",
       "      <td>2</td>\n",
       "    </tr>\n",
       "    <tr>\n",
       "      <th>6</th>\n",
       "      <td>repeat</td>\n",
       "      <td>word</td>\n",
       "      <td>2</td>\n",
       "    </tr>\n",
       "    <tr>\n",
       "      <th>7</th>\n",
       "      <td>word</td>\n",
       "      <td>word</td>\n",
       "      <td>2</td>\n",
       "    </tr>\n",
       "    <tr>\n",
       "      <th>8</th>\n",
       "      <td>word</td>\n",
       "      <td>cat</td>\n",
       "      <td>2</td>\n",
       "    </tr>\n",
       "    <tr>\n",
       "      <th>0</th>\n",
       "      <td>test</td>\n",
       "      <td>visualize</td>\n",
       "      <td>1</td>\n",
       "    </tr>\n",
       "    <tr>\n",
       "      <th>1</th>\n",
       "      <td>text</td>\n",
       "      <td>graph</td>\n",
       "      <td>1</td>\n",
       "    </tr>\n",
       "    <tr>\n",
       "      <th>2</th>\n",
       "      <td>process</td>\n",
       "      <td>repeat</td>\n",
       "      <td>1</td>\n",
       "    </tr>\n",
       "    <tr>\n",
       "      <th>3</th>\n",
       "      <td>visualize</td>\n",
       "      <td>repeat</td>\n",
       "      <td>1</td>\n",
       "    </tr>\n",
       "    <tr>\n",
       "      <th>4</th>\n",
       "      <td>graph</td>\n",
       "      <td>word</td>\n",
       "      <td>1</td>\n",
       "    </tr>\n",
       "    <tr>\n",
       "      <th>5</th>\n",
       "      <td>repeat</td>\n",
       "      <td>word</td>\n",
       "      <td>1</td>\n",
       "    </tr>\n",
       "    <tr>\n",
       "      <th>6</th>\n",
       "      <td>repeat</td>\n",
       "      <td>word</td>\n",
       "      <td>1</td>\n",
       "    </tr>\n",
       "    <tr>\n",
       "      <th>7</th>\n",
       "      <td>word</td>\n",
       "      <td>cat</td>\n",
       "      <td>1</td>\n",
       "    </tr>\n",
       "  </tbody>\n",
       "</table>\n",
       "</div>"
      ],
      "text/plain": [
       "        word     n_gram  weight\n",
       "0       test       text       3\n",
       "1       text    process       3\n",
       "2    process  visualize       3\n",
       "3  visualize      graph       3\n",
       "4      graph     repeat       3\n",
       "5     repeat     repeat       3\n",
       "6     repeat       word       3\n",
       "7       word       word       3\n",
       "8       word       word       3\n",
       "9       word        cat       3\n",
       "0       test    process       2\n",
       "1       text  visualize       2\n",
       "2    process      graph       2\n",
       "3  visualize     repeat       2\n",
       "4      graph     repeat       2\n",
       "5     repeat       word       2\n",
       "6     repeat       word       2\n",
       "7       word       word       2\n",
       "8       word        cat       2\n",
       "0       test  visualize       1\n",
       "1       text      graph       1\n",
       "2    process     repeat       1\n",
       "3  visualize     repeat       1\n",
       "4      graph       word       1\n",
       "5     repeat       word       1\n",
       "6     repeat       word       1\n",
       "7       word        cat       1"
      ]
     },
     "execution_count": 19,
     "metadata": {},
     "output_type": "execute_result"
    }
   ],
   "source": [
    "edges_df = processed_text_todf(text_proc)\n",
    "edges_df"
   ]
  },
  {
   "cell_type": "code",
   "execution_count": 20,
   "metadata": {},
   "outputs": [
    {
     "data": {
      "application/vnd.jupyter.widget-view+json": {
       "model_id": "31cf4baf800f460abac0eb77e0d7ee5d",
       "version_major": 2,
       "version_minor": 0
      },
      "text/plain": [
       "Sigma(nx.DiGraph with 8 nodes and 17 edges)"
      ]
     },
     "execution_count": 20,
     "metadata": {},
     "output_type": "execute_result"
    }
   ],
   "source": [
    "prueba = edges_table_to_graph(edge_table=edges_df,edge_source_col=\"word\",edge_target_col=\"n_gram\",edge_weight_attr=\"weight\",directed=True,edge_data=[\"weight\"])\n",
    "Sigma(prueba,edge_size=\"weight\",node_metrics=[\"louvain\"], node_color=\"louvain\")"
   ]
  },
  {
   "cell_type": "code",
   "execution_count": 21,
   "metadata": {},
   "outputs": [],
   "source": [
    "lista_final = []\n",
    "for i in range(len(highschool_files)):\n",
    "    lista_final += highschool_files[i].split()\n",
    "lista_final\n",
    "highschool_edges = processed_text_todf(lista_final)\n",
    "highschool_edges\n",
    "\n",
    "highschool_edges1 = processed_text_todf(highschool_files[0].split())"
   ]
  },
  {
   "cell_type": "markdown",
   "metadata": {},
   "source": [
    "# Grafo básico"
   ]
  },
  {
   "cell_type": "code",
   "execution_count": 22,
   "metadata": {},
   "outputs": [
    {
     "data": {
      "application/vnd.jupyter.widget-view+json": {
       "model_id": "5ecf52e82f6941ad8f65ad93c01a5eba",
       "version_major": 2,
       "version_minor": 0
      },
      "text/plain": [
       "Sigma(nx.DiGraph with 90 nodes and 356 edges)"
      ]
     },
     "execution_count": 22,
     "metadata": {},
     "output_type": "execute_result"
    }
   ],
   "source": [
    "# Ajustes del algoritmo ForceAtlas2\n",
    "forceatlas2_dict = {\n",
    "    'adjustSizes':False,\n",
    "    'barnesHutOptimize':False,\n",
    "    'barnesHutTheta':0.5,\n",
    "    'edgeWeightInfluence':0.5,\n",
    "    'gravity':1,\n",
    "    'linLogMode':False,\n",
    "    'outboundAttractionDistribution':False,\n",
    "    'scalingRatio':2, \n",
    "    'slowDown':10,\n",
    "    'strongGravityMode':False\n",
    "    }\n",
    "\n",
    "prueba1 = edges_table_to_graph(edge_table=highschool_edges1,edge_source_col=\"word\",edge_target_col=\"n_gram\",edge_weight_attr=\"weight\",directed=True,edge_data=[\"weight\"])\n",
    "dream1 = Sigma(prueba1,node_size=nx.betweenness_centrality(prueba1),node_metrics=[\"louvain\"], node_color=\"louvain\",layout_settings=forceatlas2_dict)\n",
    "dream1"
   ]
  },
  {
   "cell_type": "markdown",
   "metadata": {},
   "source": [
    "# Grafo estilizado"
   ]
  },
  {
   "cell_type": "code",
   "execution_count": 23,
   "metadata": {},
   "outputs": [
    {
     "data": {
      "application/vnd.jupyter.widget-view+json": {
       "model_id": "d118a2a834ce42f989122c140e65f404",
       "version_major": 2,
       "version_minor": 0
      },
      "text/plain": [
       "Sigma(nx.DiGraph with 90 nodes and 356 edges)"
      ]
     },
     "execution_count": 23,
     "metadata": {},
     "output_type": "execute_result"
    }
   ],
   "source": [
    "highschool_edges_2 = processed_text_todf(highschool_files[0].split())\n",
    "prueba2 = edges_table_to_graph(edge_table=highschool_edges_2,edge_source_col=\"word\",edge_target_col=\"n_gram\",edge_weight_attr=\"weight\",directed=True,edge_data=[\"weight\"])\n",
    "dream2 = Sigma(\n",
    "    prueba2,\n",
    "    node_size=nx.betweenness_centrality(prueba1),\n",
    "    node_metrics=[\"louvain\"], \n",
    "    node_color=\"louvain\",\n",
    "    layout_settings=forceatlas2_dict,\n",
    "    node_label_size=nx.betweenness_centrality(prueba1),\n",
    "    label_font='cursive',\n",
    "    edge_color_from=\"source\"\n",
    "    )\n",
    "dream2"
   ]
  },
  {
   "cell_type": "markdown",
   "metadata": {},
   "source": [
    "# Varios sueños"
   ]
  },
  {
   "cell_type": "code",
   "execution_count": 16,
   "metadata": {},
   "outputs": [
    {
     "data": {
      "application/vnd.jupyter.widget-view+json": {
       "model_id": "69f5eb9e572c45759a256da4f929c2de",
       "version_major": 2,
       "version_minor": 0
      },
      "text/plain": [
       "Sigma(nx.DiGraph with 178 nodes and 779 edges)"
      ]
     },
     "execution_count": 16,
     "metadata": {},
     "output_type": "execute_result"
    }
   ],
   "source": [
    "lista_varios = []\n",
    "for i in range(3):\n",
    "    lista_varios += highschool_files[i].split()\n",
    "highschool_varios = processed_text_todf(lista_varios)\n",
    "highschool_varios\n",
    "\n",
    "prueba_varios = edges_table_to_graph(edge_table=highschool_varios,edge_source_col=\"word\",edge_target_col=\"n_gram\",edge_weight_attr=\"weight\",directed=True,edge_data=[\"weight\"])\n",
    "\n",
    "dream_varios = Sigma(\n",
    "    prueba_varios,\n",
    "    node_size=nx.betweenness_centrality(prueba_varios),\n",
    "    node_metrics=[\"louvain\"], \n",
    "    node_color=\"louvain\",\n",
    "    layout_settings=forceatlas2_dict,\n",
    "    node_label_size=nx.betweenness_centrality(prueba_varios),\n",
    "    label_font='cursive',\n",
    "    edge_color_from=\"source\"\n",
    "    )\n",
    "dream_varios"
   ]
  },
  {
   "cell_type": "markdown",
   "metadata": {},
   "source": [
    "# Eliminamos los nodos con pocas conexiones para representar más sueños"
   ]
  },
  {
   "cell_type": "markdown",
   "metadata": {},
   "source": [
    "## Conexiones Highschool"
   ]
  },
  {
   "cell_type": "code",
   "execution_count": 24,
   "metadata": {},
   "outputs": [
    {
     "data": {
      "application/vnd.jupyter.widget-view+json": {
       "model_id": "4a0cf8d4c5424fafa08f83afe4a479c3",
       "version_major": 2,
       "version_minor": 0
      },
      "text/plain": [
       "Sigma(nx.DiGraph with 48 nodes and 1,221 edges)"
      ]
     },
     "execution_count": 24,
     "metadata": {},
     "output_type": "execute_result"
    }
   ],
   "source": [
    "lista_varios = []\n",
    "for i in range(100):\n",
    "    lista_varios += highschool_files[i].split()\n",
    "highschool_varios = processed_text_todf(lista_varios)\n",
    "\n",
    "prueba_varios = edges_table_to_graph(edge_table=highschool_varios,edge_source_col=\"word\",edge_target_col=\"n_gram\",edge_weight_attr=\"weight\",directed=True,edge_data=[\"weight\"])\n",
    "\n",
    "in_degree = dict(prueba_varios.in_degree())\n",
    "\n",
    "# Filtro que elimina los nodos con menos de 70 conexiones\n",
    "for node, degree in in_degree.items():\n",
    "    if degree < 70:\n",
    "        prueba_varios.remove_node(node)\n",
    "\n",
    "dream_varios = Sigma(\n",
    "    prueba_varios,\n",
    "    node_size=nx.betweenness_centrality(prueba_varios),\n",
    "    node_metrics=[\"louvain\"], \n",
    "    node_color=\"louvain\",\n",
    "    layout_settings=forceatlas2_dict,\n",
    "    node_label_size=nx.betweenness_centrality(prueba_varios),\n",
    "    label_font='cursive',\n",
    "    edge_color_from=\"source\"\n",
    "    )\n",
    "dream_varios"
   ]
  },
  {
   "cell_type": "markdown",
   "metadata": {},
   "source": [
    "## Conexiones College"
   ]
  },
  {
   "cell_type": "code",
   "execution_count": 18,
   "metadata": {},
   "outputs": [
    {
     "data": {
      "application/vnd.jupyter.widget-view+json": {
       "model_id": "820213c6a5cf4515a0e09ac0aaeac70a",
       "version_major": 2,
       "version_minor": 0
      },
      "text/plain": [
       "Sigma(nx.DiGraph with 43 nodes and 883 edges)"
      ]
     },
     "execution_count": 18,
     "metadata": {},
     "output_type": "execute_result"
    }
   ],
   "source": [
    "lista_varios = []\n",
    "for i in range(100):\n",
    "    lista_varios += college_files.iloc[i].split()\n",
    "college_varios = processed_text_todf(lista_varios)\n",
    "\n",
    "prueba_varios = edges_table_to_graph(edge_table=college_varios,edge_source_col=\"word\",edge_target_col=\"n_gram\",edge_weight_attr=\"weight\",directed=True,edge_data=[\"weight\"])\n",
    "\n",
    "in_degree = dict(prueba_varios.in_degree())\n",
    "\n",
    "for node, degree in in_degree.items():\n",
    "    if degree < 70:\n",
    "        prueba_varios.remove_node(node)\n",
    "\n",
    "dream_varios = Sigma(\n",
    "    prueba_varios,\n",
    "    node_size=nx.betweenness_centrality(prueba_varios),\n",
    "    node_metrics=[\"louvain\"], \n",
    "    node_color=\"louvain\",\n",
    "    layout_settings=forceatlas2_dict,\n",
    "    node_label_size=nx.betweenness_centrality(prueba_varios),\n",
    "    label_font='cursive',\n",
    "    edge_color_from=\"source\"\n",
    "    )\n",
    "dream_varios"
   ]
  },
  {
   "cell_type": "markdown",
   "metadata": {},
   "source": [
    "## Adult"
   ]
  },
  {
   "cell_type": "code",
   "execution_count": 19,
   "metadata": {},
   "outputs": [
    {
     "data": {
      "application/vnd.jupyter.widget-view+json": {
       "model_id": "b39b818a00574c5086d9a9a2bddd2c70",
       "version_major": 2,
       "version_minor": 0
      },
      "text/plain": [
       "Sigma(nx.DiGraph with 43 nodes and 1,762 edges)"
      ]
     },
     "execution_count": 19,
     "metadata": {},
     "output_type": "execute_result"
    }
   ],
   "source": [
    "lista_varios = []\n",
    "for i in range(len(adult_files)):\n",
    "    lista_varios += adult_files.iloc[i].split()\n",
    "adult_varios = processed_text_todf(lista_varios)\n",
    "\n",
    "\n",
    "prueba_varios = edges_table_to_graph(edge_table=adult_varios,edge_source_col=\"word\",edge_target_col=\"n_gram\",edge_weight_attr=\"weight\",directed=True,edge_data=[\"weight\"])\n",
    "\n",
    "in_degree = dict(prueba_varios.in_degree())\n",
    "for node, degree in in_degree.items():\n",
    "    if degree < 300:\n",
    "        prueba_varios.remove_node(node)\n",
    "\n",
    "dream_varios = Sigma(\n",
    "    prueba_varios,\n",
    "    node_size=nx.betweenness_centrality(prueba_varios),\n",
    "    node_metrics=[\"louvain\"], \n",
    "    node_color=\"louvain\",\n",
    "    layout_settings=forceatlas2_dict,\n",
    "    node_label_size=nx.betweenness_centrality(prueba_varios),\n",
    "    label_font='cursive',\n",
    "    edge_color_from=\"source\"\n",
    "    )\n",
    "dream_varios"
   ]
  },
  {
   "cell_type": "markdown",
   "metadata": {},
   "source": [
    "# All"
   ]
  },
  {
   "cell_type": "code",
   "execution_count": 20,
   "metadata": {},
   "outputs": [
    {
     "data": {
      "application/vnd.jupyter.widget-view+json": {
       "model_id": "a88b9994d41f4c7e9535cacc25689a79",
       "version_major": 2,
       "version_minor": 0
      },
      "text/plain": [
       "Sigma(nx.DiGraph with 55 nodes and 2,935 edges)"
      ]
     },
     "execution_count": 20,
     "metadata": {},
     "output_type": "execute_result"
    }
   ],
   "source": [
    "lista_varios = []\n",
    "for i in range(len(full_files)):\n",
    "    lista_varios += full_files.iloc[i].split()\n",
    "full_varios = processed_text_todf(lista_varios)\n",
    "\n",
    "\n",
    "prueba_varios = edges_table_to_graph(edge_table=full_varios,edge_source_col=\"word\",edge_target_col=\"n_gram\",edge_weight_attr=\"weight\",directed=True,edge_data=[\"weight\"])\n",
    "\n",
    "in_degree = dict(prueba_varios.in_degree())\n",
    "for node, degree in in_degree.items():\n",
    "    if degree < 500:\n",
    "        prueba_varios.remove_node(node)\n",
    "\n",
    "dream_varios = Sigma(\n",
    "    prueba_varios,\n",
    "    node_size=nx.betweenness_centrality(prueba_varios),\n",
    "    node_metrics=[\"louvain\"], \n",
    "    node_color=\"louvain\",\n",
    "    layout_settings=forceatlas2_dict,\n",
    "    node_label_size=nx.betweenness_centrality(prueba_varios),\n",
    "    label_font='cursive',\n",
    "    edge_color_from=\"source\"\n",
    "    )\n",
    "dream_varios"
   ]
  },
  {
   "cell_type": "markdown",
   "metadata": {},
   "source": [
    "# Función final: de texto a visualización en grafo"
   ]
  },
  {
   "cell_type": "code",
   "execution_count": 21,
   "metadata": {},
   "outputs": [],
   "source": [
    "def dream_graph(your_dream_text): \n",
    "    \"\"\"\n",
    "    dream_graph(tu_texto_sin_procesar) --> visualización de grafo con ipysigma\n",
    "\n",
    "    Función final que pasa de texto a visualización de grafo\n",
    "\n",
    "    \"\"\"\n",
    "    processed_dream = new_prep.corpus_text_preprocessing(your_dream_text).split()\n",
    "    print(\"Yor text processed:\",processed_dream)\n",
    "\n",
    "    your_forceatlas2_dict = {\n",
    "        'adjustSizes':False,\n",
    "        'barnesHutOptimize':False,\n",
    "        'barnesHutTheta':0.5,\n",
    "        'edgeWeightInfluence':0.5,\n",
    "        'gravity':1,\n",
    "        'linLogMode':False,\n",
    "        'outboundAttractionDistribution':False,\n",
    "        'scalingRatio':1,\n",
    "        'slowDown':10,\n",
    "        'strongGravityMode':False\n",
    "        }\n",
    "\n",
    "    your_dream = processed_text_todf(processed_dream)\n",
    "    dream_graph = edges_table_to_graph(edge_table=your_dream,edge_source_col=\"word\",edge_target_col=\"n_gram\",edge_weight_attr=\"weight\",directed=True,edge_data=[\"weight\"])\n",
    "    your_dream_graph = Sigma(\n",
    "        dream_graph,\n",
    "        node_size=nx.betweenness_centrality(dream_graph),\n",
    "        node_metrics=[\"louvain\"], \n",
    "        node_color=\"louvain\",\n",
    "        layout_settings=your_forceatlas2_dict,\n",
    "        node_label_size=nx.betweenness_centrality(dream_graph),\n",
    "        label_font='cursive',\n",
    "        edge_color_from=\"source\"\n",
    "        )\n",
    "    return your_dream_graph\n"
   ]
  },
  {
   "cell_type": "markdown",
   "metadata": {},
   "source": [
    "## Probando la función final"
   ]
  },
  {
   "cell_type": "code",
   "execution_count": 22,
   "metadata": {},
   "outputs": [
    {
     "name": "stdout",
     "output_type": "stream",
     "text": [
      "Yor text processed: ['listen', 'say', 'demon', 'place', 'hand', 'upon', 'head', 'spot', 'upon', 'accursed', 'earth', 'thou', 'hast', 'never', 'yet', 'behold', 'chance', 'thou', 'hast', 'beheld', 'must', 'one', 'vigorous', 'dream', 'come', 'like', 'simoon', 'upon', 'brain', 'sleeper', 'hath', 'lain', 'sleep', 'among', 'forbidden', 'sunbeam', 'among', 'sunbeam', 'say', 'slide', 'solemn', 'column', 'melancholy', 'temples', 'wilderness', 'region', 'speak', 'dreary', 'region', 'libya', 'border', 'river', 'zaire', 'quiet', 'silence', 'water', 'river', 'saffron', 'sickly', 'hue', 'flow', 'onwards', 'sea', 'palpitate', 'forever', 'forever', 'beneath', 'red', 'eye', 'sun', 'tumultuous', 'convulsive', 'motion', 'many', 'mile', 'either', 'side', 'river', 'oozy', 'bed', 'pale', 'desert', 'gigantic', 'water', 'lily', 'sigh', 'one', 'unto', 'solitude', 'stretch', 'towards', 'heaven', 'long', 'ghastly', 'neck', 'nod', 'fro', 'everlasting', 'head', 'indistinct', 'murmur', 'cometh', 'among', 'like', 'rush', 'subterrene', 'water', 'sigh', 'one', 'unto', 'boundary', 'realm', 'boundary', 'dark', 'horrible', 'lofty', 'forest', 'like', 'wave', 'hebrides', 'low', 'underwood', 'agitate', 'continually', 'wind', 'throughout', 'heaven', 'tall', 'primeval', 'tree', 'rock', 'eternally', 'hither', 'thither', 'crash', 'mighty', 'sound', 'high', 'summit', 'one', 'one', 'drop', 'everlasting', 'dew', 'root', 'strange', 'poisonous', 'flower', 'lie', 'writhe', 'perturb', 'slumber', 'overhead', 'rustle', 'loud', 'noise', 'grey', 'cloud', 'rush', 'westwardly', 'forever', 'roll', 'cataract', 'fiery', 'wall', 'horizon', 'wind', 'throughout', 'heaven', 'shore', 'river', 'zaire', 'neither', 'quiet', 'silence', 'night', 'rain', 'fell', 'fall', 'rain', 'fall', 'blood', 'stand', 'morass', 'among', 'tall', 'lily', 'rain', 'fell', 'upon', 'head', 'lily', 'sigh', 'one', 'unto', 'solemnity', 'desolation', 'moon', 'arise', 'thin', 'ghastly', 'mist', 'crimson', 'color', 'mine', 'eye', 'fell', 'upon', 'huge', 'grey', 'rock', 'stand', 'shore', 'river', 'litten', 'light', 'moon', 'rock', 'grey', 'ghastly', 'tall', 'rock', 'grey', 'upon', 'front', 'character', 'engraven', 'stone', 'walk', 'morass', 'water', 'lily', 'come', 'close', 'unto', 'shore', 'might', 'read', 'character', 'upon', 'stone', 'could', 'decypher', 'character', 'go', 'back', 'morass', 'moon', 'shone', 'fuller', 'red', 'turned', 'look', 'upon', 'rock', 'upon', 'character', 'character', 'desolation', 'look', 'upwards', 'stand', 'man', 'upon', 'summit', 'rock', 'hid', 'among', 'water', 'lily', 'might', 'discover', 'action', 'man', 'man', 'tall', 'stately', 'form', 'wrap', 'shoulder', 'foot', 'toga', 'old', 'rome', 'outline', 'figure', 'indistinct', 'feature', 'feature', 'deity', 'mantle', 'night', 'mist', 'moon', 'dew', 'leave', 'uncover', 'feature', 'face', 'brow', 'lofty', 'think', 'eye', 'wild', 'care', 'furrow', 'upon', 'cheek', 'read', 'fable', 'sorrow', 'weariness', 'disgust', 'mankind', 'long', 'solitude', 'moon', 'shone', 'upon', 'face', 'upon', 'feature', 'face', 'oh', 'beautiful', 'airy', 'dream', 'hover', 'souls', 'daughter', 'delos', 'man', 'sit', 'upon', 'rock', 'lean', 'head', 'upon', 'hand', 'look', 'upon', 'desolation', 'look', 'low', 'unquiet', 'shrubbery', 'tall', 'primeval', 'tree', 'high', 'rustle', 'heaven', 'crimson', 'moon', 'lay', 'close', 'within', 'shelter', 'lily', 'observe', 'action', 'man', 'man', 'tremble', 'solitude', 'night', 'wan', 'sit', 'upon', 'rock', 'man', 'turn', 'attention', 'heaven', 'look', 'upon', 'dreary', 'river', 'zaire', 'upon', 'yellow', 'ghastly', 'water', 'upon', 'pale', 'legion', 'water', 'lily', 'man', 'listen', 'sighs', 'water', 'lily', 'murmur', 'come', 'among', 'lay', 'close', 'within', 'covert', 'observed', 'action', 'man', 'man', 'tremble', 'solitude', 'night', 'wan', 'sit', 'upon', 'rock', 'go', 'recess', 'morass', 'wad', 'afar', 'among', 'wilderness', 'lily', 'call', 'unto', 'hippopotamus', 'dwelt', 'among', 'fens', 'recess', 'morass', 'hippopotamus', 'heard', 'call', 'come', 'behemoth', 'unto', 'foot', 'rock', 'roar', 'loudly', 'fearfully', 'beneath', 'moon', 'lay', 'close', 'within', 'covert', 'observed', 'action', 'man', 'man', 'tremble', 'solitude', 'night', 'wan', 'sit', 'upon', 'rock', 'curse', 'element', 'curse', 'tumult', 'frightful', 'tempest', 'gather', 'heaven', 'wind', 'heaven', 'become', 'livid', 'violence', 'tempest', 'rain', 'beat', 'upon', 'head', 'man', 'flood', 'river', 'come', 'river', 'torment', 'foam', 'water', 'lily', 'shriek', 'within', 'bed', 'forest', 'crumble', 'wind', 'thunder', 'roll', 'lightning', 'fell', 'rock', 'rock', 'foundation', 'lay', 'close', 'within', 'covert', 'observed', 'action', 'man', 'man', 'tremble', 'solitude', 'night', 'wan', 'sit', 'upon', 'rock', 'grow', 'angry', 'curse', 'curse', 'silence', 'river', 'lily', 'wind', 'forest', 'heaven', 'thunder', 'sigh', 'water', 'lily', 'become', 'accursed', 'still', 'moon', 'ceased', 'totter', 'pathway', 'heaven', 'thunder', 'die', 'away', 'lightning', 'flash', 'cloud', 'hang', 'motionless', 'water', 'sink', 'level', 'remain', 'tree', 'cease', 'rock', 'water', 'lily', 'sigh', 'murmur', 'hear', 'long', 'among', 'shadow', 'sound', 'throughout', 'vast', 'illimitable', 'desert', 'look', 'upon', 'character', 'rock', 'change', 'character', 'silence', 'mine', 'eye', 'fell', 'upon', 'countenance', 'man', 'countenance', 'wan', 'terror', 'hurriedly', 'raise', 'head', 'hand', 'stand', 'forth', 'upon', 'rock', 'listen', 'voice', 'throughout', 'vast', 'illimitable', 'desert', 'character', 'upon', 'rock', 'silence', 'man', 'shudder', 'turn', 'face', 'away', 'flee', 'afar', 'behold']\n"
     ]
    },
    {
     "data": {
      "application/vnd.jupyter.widget-view+json": {
       "model_id": "2b0cef74742c4919afd247a1520e8144",
       "version_major": 2,
       "version_minor": 0
      },
      "text/plain": [
       "Sigma(nx.DiGraph with 289 nodes and 1,499 edges)"
      ]
     },
     "execution_count": 22,
     "metadata": {},
     "output_type": "execute_result"
    }
   ],
   "source": [
    "# Puedes probar con otro tipo de textos, por ejemplo con un cuento de Edgar Allan Poe\n",
    "dream_graph(\n",
    "    \"\"\"\n",
    "    \"Listen to me,\" said the Demon, as he placed his hand upon my head. \n",
    "    \"There is a spot upon this accursed earth which thou hast never yet beheld \n",
    "    And if by any chance thou hast beheld it, it must have been in one of those vigorous dreams \n",
    "    which come like the Simoon upon the brain of the sleeper who hath lain down to sleep among the \n",
    "    forbidden sunbeams --among the sunbeams, I say, which slide from off the solemn columns of the melancholy temples\n",
    "    in the wilderness. The region of which I speak is a dreary region in Libya, by the borders of the river Zaire. \n",
    "    And there is no quiet there, nor silence.\n",
    "    \"The waters of the river have a saffron and sickly hue --and they flow not onwards to the sea, \n",
    "    but palpitate forever and forever beneath the red eye of the sun with a tumultuous and convulsive motion. \n",
    "    For many miles on either side of the river's oozy bed is a pale desert of gigantic water-lilies. \n",
    "    They sigh one unto the other in that solitude, and stretch towards the heaven their long ghastly necks, \n",
    "    and nod to and fro their everlasting heads. And there is an indistinct murmur which cometh out from among them like \n",
    "    the rushing of subterrene water. And they sigh one unto the other.\n",
    "    \"But there is a boundary to their realm --the boundary of the dark, horrible, lofty forest. \n",
    "    There, like the waves about the Hebrides, the low underwood is agitated continually. \n",
    "    But there is no wind throughout the heaven. And the tall primeval trees rock eternally hither and \n",
    "    thither with a crashing and mighty sound. And from their high summits, one by one, drop everlasting dews. \n",
    "    And at the roots strange poisonous flowers lie writhing in perturbed slumber. And overhead, with a rustling and loud noise, \n",
    "    the grey clouds rush westwardly forever, until they roll, a cataract, over the fiery wall of the horizon. \n",
    "    But there is no wind throughout the heaven. And by the shores of the river Zaire there is neither quiet nor silence.\n",
    "    \"It was night, and the rain fell; and, falling, it was rain, but, having fallen, it was blood. \n",
    "    And I stood in the morass among the tall lilies, and the rain fell upon my head --and the lilies sighed one unto \n",
    "    the other in the solemnity of their desolation.\n",
    "    \"And, all at once, the moon arose through the thin ghastly mist, and was crimson in color. \n",
    "    And mine eyes fell upon a huge grey rock which stood by the shore of the river, and was litten by the light of the moon. \n",
    "    And the rock was grey, and ghastly, and tall, --and the rock was grey. Upon its front were characters engraven in the stone; \n",
    "    and I walked through the morass of water-lilies, until I came close unto the shore, that I might read the characters upon the stone. \n",
    "    But I could not decypher the characters. And I was going back into the morass, when the moon shone with a fuller red, and I turned and looked again upon the rock, and upon the characters --and the characters were DESOLATION.\n",
    "    \"And I looked upwards, and there stood a man upon the summit of the rock, and I hid myself among the water-lilies that I might discover the actions of the man. \n",
    "    And the man was tall and stately in form, and was wrapped up from his shoulders to his feet in the toga of old Rome. And the outlines of his figure were indistinct --but his features were the features of a Deity; for the mantle of the night, and of the mist, and of the moon, and of the dew, had left uncovered the features of his face. And his brow was lofty with thought, and his eye wild with care; and, in the few furrows upon his cheek I read the fables of sorrow, and weariness, and disgust with mankind, and a longing after solitude. And the moon shone upon his face, and upon the features of his face, and oh! they were more beautiful than the airy dreams which hovered about the souls of the daughters of Delos!\n",
    "    \"And the man sat down upon the rock, and leaned his head upon his hand, and looked out upon the desolation. \n",
    "    He looked down into the low unquiet shrubbery, and up into the tall primeval trees, and up higher at the rustling heaven, \n",
    "    and into the crimson moon. And I lay close within shelter of the lilies, and observed the actions of the man. \n",
    "    And the man trembled in the solitude --but the night waned and he sat upon the rock.\n",
    "    \"And the man turned his attention from the heaven, and looked out upon the dreary river Zaire, \n",
    "    and upon the yellow ghastly waters, and upon the pale legions of the water-lilies. \n",
    "    And the man listened to the sighs of the water-lilies, and of the murmur that came up from among them. \n",
    "    And I lay close within my covert and observed the actions of the man. And the man trembled in the solitude \n",
    "    --but the night waned and he sat upon the rock.\n",
    "    \"Then I went down into the recesses of the morass, and waded afar in among the wilderness of the lilies, \n",
    "    and called unto the hippopotami which dwelt among the fens in the recesses of the morass. And the hippopotami \n",
    "    heard my call, and came, with the behemoth, unto the foot of the rock, and roared loudly and fearfully beneath the moon. \n",
    "    And I lay close within my covert and observed the actions of the man. And the man trembled in the solitude --but the night waned and he sat upon the rock.\n",
    "    \"Then I cursed the elements with the curse of tumult; and a frightful tempest gathered in the heaven where before there \n",
    "    had been no wind. And the heaven became livid with the violence of the tempest --and the rain beat upon the head of the man \n",
    "    --and the floods of the river came down --and the river was tormented into foam --and the water-lilies shrieked within their beds \n",
    "    --and the forest crumbled before the wind --and the thunder rolled, --and the lightning fell --and the rock rocked to its foundation. \n",
    "    And I lay close within my covert and observed the actions of the man. And the man trembled in the solitude -- but the night waned and he sat upon the rock.\n",
    "    \"Then I grew angry and cursed, with the curse of silence, the river, and the lilies, and the wind, and the forest, and the heaven, \n",
    "    and the thunder, and the sighs of the water-lilies. And they became accursed and were still. And the moon ceased to totter in its \n",
    "    pathway up the heaven --and the thunder died away --and the lightning did not flash --and the clouds hung motionless --and the waters \n",
    "    sunk to their level and remained --and the trees ceased to rock --and the water-lilies sighed no more --and the murmur was heard no \n",
    "    longer from among them, nor any shadow of sound throughout the vast illimitable desert. And I looked upon the characters of the rock, \n",
    "    and they were changed --and the characters were SILENCE.\n",
    "    \"And mine eyes fell upon the countenance of the man, and his countenance was wan with terror. \n",
    "    And, hurriedly, he raised his head from his hand, and stood forth upon the rock, and listened. \n",
    "    But there was no voice throughout the vast illimitable desert, and the characters upon the rock were SILENCE. \n",
    "    And the man shuddered, and turned his face away, and fled afar off, and I beheld him no more.\"\n",
    "    \"\"\"\n",
    "    )\n"
   ]
  },
  {
   "cell_type": "markdown",
   "metadata": {},
   "source": [
    "## Ahora prueba con tus propios sueños (en inglés)"
   ]
  },
  {
   "cell_type": "code",
   "execution_count": 23,
   "metadata": {},
   "outputs": [
    {
     "name": "stdout",
     "output_type": "stream",
     "text": [
      "Yor text processed: ['turn', 'try', 'dream']\n"
     ]
    },
    {
     "data": {
      "application/vnd.jupyter.widget-view+json": {
       "model_id": "ab85225a281f40ac85177e1485a90a50",
       "version_major": 2,
       "version_minor": 0
      },
      "text/plain": [
       "Sigma(nx.DiGraph with 3 nodes and 3 edges)"
      ]
     },
     "execution_count": 23,
     "metadata": {},
     "output_type": "execute_result"
    }
   ],
   "source": [
    "dream_graph(\n",
    "    \"\"\"\n",
    "    Now is your turn, try your own dream. \n",
    "    \"\"\"\n",
    "    )"
   ]
  }
 ],
 "metadata": {
  "kernelspec": {
   "display_name": "Python 3",
   "language": "python",
   "name": "python3"
  },
  "language_info": {
   "codemirror_mode": {
    "name": "ipython",
    "version": 3
   },
   "file_extension": ".py",
   "mimetype": "text/x-python",
   "name": "python",
   "nbconvert_exporter": "python",
   "pygments_lexer": "ipython3",
   "version": "3.11.3"
  },
  "orig_nbformat": 4
 },
 "nbformat": 4,
 "nbformat_minor": 2
}
